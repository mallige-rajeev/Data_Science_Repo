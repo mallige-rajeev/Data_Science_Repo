{
 "cells": [
  {
   "cell_type": "markdown",
   "id": "e787d954",
   "metadata": {},
   "source": [
    "# E-Commerce Data Analysis"
   ]
  },
  {
   "cell_type": "code",
   "execution_count": 1,
   "id": "a986f491",
   "metadata": {},
   "outputs": [],
   "source": [
    "import os\n",
    "import numpy as np\n",
    "import pandas as pd\n",
    "import seaborn as sns\n",
    "import matplotlib.pyplot as plt\n",
    "import warnings\n",
    "warnings.filterwarnings('ignore')\n",
    "\n",
    "%matplotlib inline\n",
    "sns.set()"
   ]
  },
  {
   "cell_type": "code",
   "execution_count": 2,
   "id": "96f4d313",
   "metadata": {},
   "outputs": [],
   "source": [
    "df=pd.read_csv('E-com_Data.csv')"
   ]
  },
  {
   "cell_type": "code",
   "execution_count": 3,
   "id": "9fe186a0",
   "metadata": {},
   "outputs": [
    {
     "data": {
      "text/html": [
       "<div>\n",
       "<style scoped>\n",
       "    .dataframe tbody tr th:only-of-type {\n",
       "        vertical-align: middle;\n",
       "    }\n",
       "\n",
       "    .dataframe tbody tr th {\n",
       "        vertical-align: top;\n",
       "    }\n",
       "\n",
       "    .dataframe thead th {\n",
       "        text-align: right;\n",
       "    }\n",
       "</style>\n",
       "<table border=\"1\" class=\"dataframe\">\n",
       "  <thead>\n",
       "    <tr style=\"text-align: right;\">\n",
       "      <th></th>\n",
       "      <th>CustomerID</th>\n",
       "      <th>Item Code</th>\n",
       "      <th>InvoieNo</th>\n",
       "      <th>Date of purchase</th>\n",
       "      <th>Quantity</th>\n",
       "      <th>Time</th>\n",
       "      <th>price per Unit</th>\n",
       "      <th>Price</th>\n",
       "      <th>Shipping Location</th>\n",
       "      <th>Cancelled_status</th>\n",
       "      <th>Reason of return</th>\n",
       "      <th>Sold as set</th>\n",
       "    </tr>\n",
       "  </thead>\n",
       "  <tbody>\n",
       "    <tr>\n",
       "      <th>0</th>\n",
       "      <td>4355.0</td>\n",
       "      <td>15734</td>\n",
       "      <td>398177.0</td>\n",
       "      <td>29-10-2017</td>\n",
       "      <td>6.0</td>\n",
       "      <td>3:36:00 PM</td>\n",
       "      <td>321.0</td>\n",
       "      <td>1926.0</td>\n",
       "      <td>Location 1</td>\n",
       "      <td>NaN</td>\n",
       "      <td>NaN</td>\n",
       "      <td>NaN</td>\n",
       "    </tr>\n",
       "    <tr>\n",
       "      <th>1</th>\n",
       "      <td>4352.0</td>\n",
       "      <td>14616</td>\n",
       "      <td>394422.0</td>\n",
       "      <td>05-10-2017</td>\n",
       "      <td>2.0</td>\n",
       "      <td>2:53:00 PM</td>\n",
       "      <td>870.0</td>\n",
       "      <td>1740.0</td>\n",
       "      <td>Location 1</td>\n",
       "      <td>NaN</td>\n",
       "      <td>NaN</td>\n",
       "      <td>NaN</td>\n",
       "    </tr>\n",
       "    <tr>\n",
       "      <th>2</th>\n",
       "      <td>4352.0</td>\n",
       "      <td>14614</td>\n",
       "      <td>394422.0</td>\n",
       "      <td>12-10-2017</td>\n",
       "      <td>2.0</td>\n",
       "      <td>2:53:00 PM</td>\n",
       "      <td>933.0</td>\n",
       "      <td>1866.0</td>\n",
       "      <td>Location 1</td>\n",
       "      <td>NaN</td>\n",
       "      <td>NaN</td>\n",
       "      <td>NaN</td>\n",
       "    </tr>\n",
       "    <tr>\n",
       "      <th>3</th>\n",
       "      <td>4352.0</td>\n",
       "      <td>85014B</td>\n",
       "      <td>388633.0</td>\n",
       "      <td>22-08-2017</td>\n",
       "      <td>3.0</td>\n",
       "      <td>2:47:00 PM</td>\n",
       "      <td>623.0</td>\n",
       "      <td>1869.0</td>\n",
       "      <td>Location 1</td>\n",
       "      <td>NaN</td>\n",
       "      <td>NaN</td>\n",
       "      <td>NaN</td>\n",
       "    </tr>\n",
       "    <tr>\n",
       "      <th>4</th>\n",
       "      <td>4352.0</td>\n",
       "      <td>15364</td>\n",
       "      <td>394422.0</td>\n",
       "      <td>10-10-2017</td>\n",
       "      <td>2.0</td>\n",
       "      <td>2:53:00 PM</td>\n",
       "      <td>944.0</td>\n",
       "      <td>1888.0</td>\n",
       "      <td>Location 1</td>\n",
       "      <td>NaN</td>\n",
       "      <td>NaN</td>\n",
       "      <td>NaN</td>\n",
       "    </tr>\n",
       "  </tbody>\n",
       "</table>\n",
       "</div>"
      ],
      "text/plain": [
       "   CustomerID Item Code  InvoieNo Date of purchase  Quantity        Time  \\\n",
       "0      4355.0     15734  398177.0       29-10-2017       6.0  3:36:00 PM   \n",
       "1      4352.0     14616  394422.0       05-10-2017       2.0  2:53:00 PM   \n",
       "2      4352.0     14614  394422.0       12-10-2017       2.0  2:53:00 PM   \n",
       "3      4352.0    85014B  388633.0       22-08-2017       3.0  2:47:00 PM   \n",
       "4      4352.0     15364  394422.0       10-10-2017       2.0  2:53:00 PM   \n",
       "\n",
       "   price per Unit   Price Shipping Location Cancelled_status Reason of return  \\\n",
       "0           321.0  1926.0        Location 1              NaN              NaN   \n",
       "1           870.0  1740.0        Location 1              NaN              NaN   \n",
       "2           933.0  1866.0        Location 1              NaN              NaN   \n",
       "3           623.0  1869.0        Location 1              NaN              NaN   \n",
       "4           944.0  1888.0        Location 1              NaN              NaN   \n",
       "\n",
       "   Sold as set  \n",
       "0          NaN  \n",
       "1          NaN  \n",
       "2          NaN  \n",
       "3          NaN  \n",
       "4          NaN  "
      ]
     },
     "execution_count": 3,
     "metadata": {},
     "output_type": "execute_result"
    }
   ],
   "source": [
    "df.head()"
   ]
  },
  {
   "cell_type": "code",
   "execution_count": 4,
   "id": "6fb0374a",
   "metadata": {},
   "outputs": [
    {
     "name": "stdout",
     "output_type": "stream",
     "text": [
      "<class 'pandas.core.frame.DataFrame'>\n",
      "RangeIndex: 541116 entries, 0 to 541115\n",
      "Data columns (total 12 columns):\n",
      " #   Column             Non-Null Count   Dtype  \n",
      "---  ------             --------------   -----  \n",
      " 0   CustomerID         404189 non-null  float64\n",
      " 1   Item Code          537979 non-null  object \n",
      " 2   InvoieNo           537979 non-null  float64\n",
      " 3   Date of purchase   537979 non-null  object \n",
      " 4   Quantity           537979 non-null  float64\n",
      " 5   Time               537979 non-null  object \n",
      " 6   price per Unit     537979 non-null  float64\n",
      " 7   Price              537979 non-null  float64\n",
      " 8   Shipping Location  537979 non-null  object \n",
      " 9   Cancelled_status   8345 non-null    object \n",
      " 10  Reason of return   3 non-null       object \n",
      " 11  Sold as set        0 non-null       float64\n",
      "dtypes: float64(6), object(6)\n",
      "memory usage: 49.5+ MB\n"
     ]
    }
   ],
   "source": [
    "df.info()"
   ]
  },
  {
   "cell_type": "code",
   "execution_count": 5,
   "id": "f7a8a001",
   "metadata": {},
   "outputs": [
    {
     "data": {
      "text/plain": [
       "(541116, 12)"
      ]
     },
     "execution_count": 5,
     "metadata": {},
     "output_type": "execute_result"
    }
   ],
   "source": [
    "df.shape"
   ]
  },
  {
   "cell_type": "code",
   "execution_count": 6,
   "id": "ca03eb83",
   "metadata": {},
   "outputs": [
    {
     "data": {
      "text/plain": [
       "CustomerID            4349\n",
       "Item Code             4009\n",
       "InvoieNo             24928\n",
       "Date of purchase       381\n",
       "Quantity               462\n",
       "Time                   770\n",
       "price per Unit        2900\n",
       "Price                13529\n",
       "Shipping Location       20\n",
       "Cancelled_status         1\n",
       "Reason of return         2\n",
       "Sold as set              0\n",
       "dtype: int64"
      ]
     },
     "execution_count": 6,
     "metadata": {},
     "output_type": "execute_result"
    }
   ],
   "source": [
    "df.nunique()"
   ]
  },
  {
   "cell_type": "code",
   "execution_count": 7,
   "id": "4f7fce43",
   "metadata": {},
   "outputs": [
    {
     "data": {
      "text/plain": [
       "CustomerID           404189\n",
       "Item Code            537979\n",
       "InvoieNo             537979\n",
       "Date of purchase     537979\n",
       "Quantity             537979\n",
       "Time                 537979\n",
       "price per Unit       537979\n",
       "Price                537979\n",
       "Shipping Location    537979\n",
       "Cancelled_status       8345\n",
       "Reason of return          3\n",
       "Sold as set               0\n",
       "dtype: int64"
      ]
     },
     "execution_count": 7,
     "metadata": {},
     "output_type": "execute_result"
    }
   ],
   "source": [
    "df.count()"
   ]
  },
  {
   "cell_type": "code",
   "execution_count": 8,
   "id": "4a6bdfc0",
   "metadata": {},
   "outputs": [
    {
     "data": {
      "text/plain": [
       "CustomerID           136927\n",
       "Item Code              3137\n",
       "InvoieNo               3137\n",
       "Date of purchase       3137\n",
       "Quantity               3137\n",
       "Time                   3137\n",
       "price per Unit         3137\n",
       "Price                  3137\n",
       "Shipping Location      3137\n",
       "Cancelled_status     532771\n",
       "Reason of return     541113\n",
       "Sold as set          541116\n",
       "dtype: int64"
      ]
     },
     "execution_count": 8,
     "metadata": {},
     "output_type": "execute_result"
    }
   ],
   "source": [
    "df.isnull().sum()"
   ]
  },
  {
   "cell_type": "code",
   "execution_count": 9,
   "id": "712144e5",
   "metadata": {},
   "outputs": [
    {
     "data": {
      "text/plain": [
       "3145"
      ]
     },
     "execution_count": 9,
     "metadata": {},
     "output_type": "execute_result"
    }
   ],
   "source": [
    "df.duplicated().sum()"
   ]
  },
  {
   "cell_type": "code",
   "execution_count": 10,
   "id": "493d288d",
   "metadata": {},
   "outputs": [],
   "source": [
    "df['Date of purchase']=pd.to_datetime(df['Date of purchase'])"
   ]
  },
  {
   "cell_type": "code",
   "execution_count": 11,
   "id": "7a235d25",
   "metadata": {},
   "outputs": [
    {
     "name": "stdout",
     "output_type": "stream",
     "text": [
      "<class 'pandas.core.frame.DataFrame'>\n",
      "RangeIndex: 541116 entries, 0 to 541115\n",
      "Data columns (total 12 columns):\n",
      " #   Column             Non-Null Count   Dtype         \n",
      "---  ------             --------------   -----         \n",
      " 0   CustomerID         404189 non-null  float64       \n",
      " 1   Item Code          537979 non-null  object        \n",
      " 2   InvoieNo           537979 non-null  float64       \n",
      " 3   Date of purchase   537979 non-null  datetime64[ns]\n",
      " 4   Quantity           537979 non-null  float64       \n",
      " 5   Time               537979 non-null  object        \n",
      " 6   price per Unit     537979 non-null  float64       \n",
      " 7   Price              537979 non-null  float64       \n",
      " 8   Shipping Location  537979 non-null  object        \n",
      " 9   Cancelled_status   8345 non-null    object        \n",
      " 10  Reason of return   3 non-null       object        \n",
      " 11  Sold as set        0 non-null       float64       \n",
      "dtypes: datetime64[ns](1), float64(6), object(5)\n",
      "memory usage: 49.5+ MB\n"
     ]
    }
   ],
   "source": [
    "df.info()"
   ]
  },
  {
   "cell_type": "code",
   "execution_count": 12,
   "id": "e514b3a1",
   "metadata": {},
   "outputs": [
    {
     "name": "stdout",
     "output_type": "stream",
     "text": [
      "Min Date: 2016-12-02 00:00:00\n",
      "\n",
      "Max Date: 2017-12-19 00:00:00\n"
     ]
    }
   ],
   "source": [
    "print(\"Min Date:\", df['Date of purchase'].min())\n",
    "print()\n",
    "print(\"Max Date:\", df['Date of purchase'].max())"
   ]
  },
  {
   "cell_type": "code",
   "execution_count": 13,
   "id": "b10cae83",
   "metadata": {},
   "outputs": [
    {
     "data": {
      "text/plain": [
       "Index(['CustomerID', 'Item Code', 'InvoieNo', 'Date of purchase', 'Quantity',\n",
       "       'Time', 'price per Unit', 'Price', 'Shipping Location',\n",
       "       'Cancelled_status', 'Reason of return', 'Sold as set'],\n",
       "      dtype='object')"
      ]
     },
     "execution_count": 13,
     "metadata": {},
     "output_type": "execute_result"
    }
   ],
   "source": [
    "df.columns"
   ]
  },
  {
   "cell_type": "code",
   "execution_count": 14,
   "id": "a1e70040",
   "metadata": {},
   "outputs": [
    {
     "data": {
      "text/plain": [
       "3145"
      ]
     },
     "execution_count": 14,
     "metadata": {},
     "output_type": "execute_result"
    }
   ],
   "source": [
    "df.duplicated().sum()"
   ]
  },
  {
   "cell_type": "code",
   "execution_count": 15,
   "id": "100c0bd1",
   "metadata": {},
   "outputs": [],
   "source": [
    "df=df.drop_duplicates(ignore_index=True)"
   ]
  },
  {
   "cell_type": "code",
   "execution_count": 16,
   "id": "4d7c843e",
   "metadata": {},
   "outputs": [
    {
     "data": {
      "text/plain": [
       "0"
      ]
     },
     "execution_count": 16,
     "metadata": {},
     "output_type": "execute_result"
    }
   ],
   "source": [
    "df.duplicated().sum()"
   ]
  },
  {
   "cell_type": "code",
   "execution_count": 17,
   "id": "df0b9fab",
   "metadata": {},
   "outputs": [],
   "source": [
    "df1=df[['CustomerID','InvoieNo','Date of purchase','Price']]\n",
    "df1=df1.rename(columns={'InvoieNo':'InvoiceNo','Date of purchase':'Date'})"
   ]
  },
  {
   "cell_type": "code",
   "execution_count": 18,
   "id": "6ff715d2",
   "metadata": {},
   "outputs": [
    {
     "data": {
      "text/html": [
       "<div>\n",
       "<style scoped>\n",
       "    .dataframe tbody tr th:only-of-type {\n",
       "        vertical-align: middle;\n",
       "    }\n",
       "\n",
       "    .dataframe tbody tr th {\n",
       "        vertical-align: top;\n",
       "    }\n",
       "\n",
       "    .dataframe thead th {\n",
       "        text-align: right;\n",
       "    }\n",
       "</style>\n",
       "<table border=\"1\" class=\"dataframe\">\n",
       "  <thead>\n",
       "    <tr style=\"text-align: right;\">\n",
       "      <th></th>\n",
       "      <th>CustomerID</th>\n",
       "      <th>InvoiceNo</th>\n",
       "      <th>Date</th>\n",
       "      <th>Price</th>\n",
       "    </tr>\n",
       "  </thead>\n",
       "  <tbody>\n",
       "    <tr>\n",
       "      <th>0</th>\n",
       "      <td>4355.0</td>\n",
       "      <td>398177.0</td>\n",
       "      <td>2017-10-29</td>\n",
       "      <td>1926.0</td>\n",
       "    </tr>\n",
       "    <tr>\n",
       "      <th>1</th>\n",
       "      <td>4352.0</td>\n",
       "      <td>394422.0</td>\n",
       "      <td>2017-10-05</td>\n",
       "      <td>1740.0</td>\n",
       "    </tr>\n",
       "    <tr>\n",
       "      <th>2</th>\n",
       "      <td>4352.0</td>\n",
       "      <td>394422.0</td>\n",
       "      <td>2017-10-12</td>\n",
       "      <td>1866.0</td>\n",
       "    </tr>\n",
       "    <tr>\n",
       "      <th>3</th>\n",
       "      <td>4352.0</td>\n",
       "      <td>388633.0</td>\n",
       "      <td>2017-08-22</td>\n",
       "      <td>1869.0</td>\n",
       "    </tr>\n",
       "    <tr>\n",
       "      <th>4</th>\n",
       "      <td>4352.0</td>\n",
       "      <td>394422.0</td>\n",
       "      <td>2017-10-10</td>\n",
       "      <td>1888.0</td>\n",
       "    </tr>\n",
       "  </tbody>\n",
       "</table>\n",
       "</div>"
      ],
      "text/plain": [
       "   CustomerID  InvoiceNo       Date   Price\n",
       "0      4355.0   398177.0 2017-10-29  1926.0\n",
       "1      4352.0   394422.0 2017-10-05  1740.0\n",
       "2      4352.0   394422.0 2017-10-12  1866.0\n",
       "3      4352.0   388633.0 2017-08-22  1869.0\n",
       "4      4352.0   394422.0 2017-10-10  1888.0"
      ]
     },
     "execution_count": 18,
     "metadata": {},
     "output_type": "execute_result"
    }
   ],
   "source": [
    "df1.head()"
   ]
  },
  {
   "cell_type": "code",
   "execution_count": 19,
   "id": "f940c712",
   "metadata": {},
   "outputs": [
    {
     "data": {
      "text/plain": [
       "CustomerID    133790\n",
       "InvoiceNo          1\n",
       "Date               1\n",
       "Price              1\n",
       "dtype: int64"
      ]
     },
     "execution_count": 19,
     "metadata": {},
     "output_type": "execute_result"
    }
   ],
   "source": [
    "df1.isnull().sum()"
   ]
  },
  {
   "cell_type": "code",
   "execution_count": 20,
   "id": "2235d302",
   "metadata": {},
   "outputs": [
    {
     "data": {
      "text/plain": [
       "CustomerID    24.869370\n",
       "InvoiceNo      0.000186\n",
       "Date           0.000186\n",
       "Price          0.000186\n",
       "dtype: float64"
      ]
     },
     "execution_count": 20,
     "metadata": {},
     "output_type": "execute_result"
    }
   ],
   "source": [
    "df1.isnull().sum()/len(df1)*100"
   ]
  },
  {
   "cell_type": "markdown",
   "id": "329a2c13",
   "metadata": {},
   "source": [
    "### Data Cleaning"
   ]
  },
  {
   "cell_type": "code",
   "execution_count": 21,
   "id": "ef40aa6d",
   "metadata": {},
   "outputs": [
    {
     "data": {
      "text/plain": [
       "(537971, 4)"
      ]
     },
     "execution_count": 21,
     "metadata": {},
     "output_type": "execute_result"
    }
   ],
   "source": [
    "df1.shape"
   ]
  },
  {
   "cell_type": "code",
   "execution_count": 22,
   "id": "d21be433",
   "metadata": {},
   "outputs": [],
   "source": [
    "df1=df1[~(df1.CustomerID.isnull())]\n",
    "df1=df1[~(df1.Price<0)]"
   ]
  },
  {
   "cell_type": "code",
   "execution_count": 23,
   "id": "bd185767",
   "metadata": {},
   "outputs": [
    {
     "data": {
      "text/plain": [
       "(395998, 4)"
      ]
     },
     "execution_count": 23,
     "metadata": {},
     "output_type": "execute_result"
    }
   ],
   "source": [
    "df1.shape"
   ]
  },
  {
   "cell_type": "code",
   "execution_count": 24,
   "id": "41f78606",
   "metadata": {},
   "outputs": [
    {
     "data": {
      "text/html": [
       "<div>\n",
       "<style scoped>\n",
       "    .dataframe tbody tr th:only-of-type {\n",
       "        vertical-align: middle;\n",
       "    }\n",
       "\n",
       "    .dataframe tbody tr th {\n",
       "        vertical-align: top;\n",
       "    }\n",
       "\n",
       "    .dataframe thead th {\n",
       "        text-align: right;\n",
       "    }\n",
       "</style>\n",
       "<table border=\"1\" class=\"dataframe\">\n",
       "  <thead>\n",
       "    <tr style=\"text-align: right;\">\n",
       "      <th></th>\n",
       "      <th>CustomerID</th>\n",
       "      <th>InvoiceNo</th>\n",
       "      <th>Date</th>\n",
       "      <th>Price</th>\n",
       "    </tr>\n",
       "  </thead>\n",
       "  <tbody>\n",
       "    <tr>\n",
       "      <th>count</th>\n",
       "      <td>395998.000000</td>\n",
       "      <td>395998.000000</td>\n",
       "      <td>395998</td>\n",
       "      <td>395998.000000</td>\n",
       "    </tr>\n",
       "    <tr>\n",
       "      <th>mean</th>\n",
       "      <td>2186.423482</td>\n",
       "      <td>385683.406209</td>\n",
       "      <td>2017-07-15 22:41:19.830705920</td>\n",
       "      <td>2554.930656</td>\n",
       "    </tr>\n",
       "    <tr>\n",
       "      <th>min</th>\n",
       "      <td>2.000000</td>\n",
       "      <td>361429.000000</td>\n",
       "      <td>2016-12-02 00:00:00</td>\n",
       "      <td>12.000000</td>\n",
       "    </tr>\n",
       "    <tr>\n",
       "      <th>25%</th>\n",
       "      <td>1212.000000</td>\n",
       "      <td>374298.000000</td>\n",
       "      <td>2017-04-12 00:00:00</td>\n",
       "      <td>598.000000</td>\n",
       "    </tr>\n",
       "    <tr>\n",
       "      <th>50%</th>\n",
       "      <td>2080.000000</td>\n",
       "      <td>386957.000000</td>\n",
       "      <td>2017-08-05 00:00:00</td>\n",
       "      <td>1608.000000</td>\n",
       "    </tr>\n",
       "    <tr>\n",
       "      <th>75%</th>\n",
       "      <td>3294.000000</td>\n",
       "      <td>397157.000000</td>\n",
       "      <td>2017-10-26 00:00:00</td>\n",
       "      <td>2520.000000</td>\n",
       "    </tr>\n",
       "    <tr>\n",
       "      <th>max</th>\n",
       "      <td>4372.000000</td>\n",
       "      <td>406651.000000</td>\n",
       "      <td>2017-12-19 00:00:00</td>\n",
       "      <td>90400.000000</td>\n",
       "    </tr>\n",
       "    <tr>\n",
       "      <th>std</th>\n",
       "      <td>1252.325963</td>\n",
       "      <td>13107.505659</td>\n",
       "      <td>NaN</td>\n",
       "      <td>4903.426736</td>\n",
       "    </tr>\n",
       "  </tbody>\n",
       "</table>\n",
       "</div>"
      ],
      "text/plain": [
       "          CustomerID      InvoiceNo                           Date  \\\n",
       "count  395998.000000  395998.000000                         395998   \n",
       "mean     2186.423482  385683.406209  2017-07-15 22:41:19.830705920   \n",
       "min         2.000000  361429.000000            2016-12-02 00:00:00   \n",
       "25%      1212.000000  374298.000000            2017-04-12 00:00:00   \n",
       "50%      2080.000000  386957.000000            2017-08-05 00:00:00   \n",
       "75%      3294.000000  397157.000000            2017-10-26 00:00:00   \n",
       "max      4372.000000  406651.000000            2017-12-19 00:00:00   \n",
       "std      1252.325963   13107.505659                            NaN   \n",
       "\n",
       "               Price  \n",
       "count  395998.000000  \n",
       "mean     2554.930656  \n",
       "min        12.000000  \n",
       "25%       598.000000  \n",
       "50%      1608.000000  \n",
       "75%      2520.000000  \n",
       "max     90400.000000  \n",
       "std      4903.426736  "
      ]
     },
     "execution_count": 24,
     "metadata": {},
     "output_type": "execute_result"
    }
   ],
   "source": [
    "df1.describe()"
   ]
  },
  {
   "cell_type": "code",
   "execution_count": 25,
   "id": "6b8636f2",
   "metadata": {},
   "outputs": [
    {
     "data": {
      "text/plain": [
       "CustomerID    0\n",
       "InvoiceNo     0\n",
       "Date          0\n",
       "Price         0\n",
       "dtype: int64"
      ]
     },
     "execution_count": 25,
     "metadata": {},
     "output_type": "execute_result"
    }
   ],
   "source": [
    "df1.isnull().sum()"
   ]
  },
  {
   "cell_type": "markdown",
   "id": "672ee501",
   "metadata": {},
   "source": [
    "### Data Understanding"
   ]
  },
  {
   "cell_type": "code",
   "execution_count": 26,
   "id": "4720e874",
   "metadata": {},
   "outputs": [],
   "source": [
    "import datetime"
   ]
  },
  {
   "cell_type": "code",
   "execution_count": 27,
   "id": "31881567",
   "metadata": {},
   "outputs": [],
   "source": [
    "new_date=datetime.datetime(2017,12,20)"
   ]
  },
  {
   "cell_type": "code",
   "execution_count": 28,
   "id": "e38023a6",
   "metadata": {},
   "outputs": [
    {
     "data": {
      "text/plain": [
       "datetime.datetime(2017, 12, 20, 0, 0)"
      ]
     },
     "execution_count": 28,
     "metadata": {},
     "output_type": "execute_result"
    }
   ],
   "source": [
    "new_date"
   ]
  },
  {
   "cell_type": "markdown",
   "id": "c95521e7",
   "metadata": {},
   "source": [
    "### Building RFM Approach"
   ]
  },
  {
   "cell_type": "code",
   "execution_count": 29,
   "id": "2e5b15f0",
   "metadata": {},
   "outputs": [],
   "source": [
    "RFMApproach=df1.groupby('CustomerID').agg({'Date':lambda x:(new_date-x.max()).days, 'InvoiceNo':lambda x:x.count(), 'Price':lambda x:x.sum()})"
   ]
  },
  {
   "cell_type": "code",
   "execution_count": 30,
   "id": "ea5ff425",
   "metadata": {},
   "outputs": [
    {
     "data": {
      "text/html": [
       "<div>\n",
       "<style scoped>\n",
       "    .dataframe tbody tr th:only-of-type {\n",
       "        vertical-align: middle;\n",
       "    }\n",
       "\n",
       "    .dataframe tbody tr th {\n",
       "        vertical-align: top;\n",
       "    }\n",
       "\n",
       "    .dataframe thead th {\n",
       "        text-align: right;\n",
       "    }\n",
       "</style>\n",
       "<table border=\"1\" class=\"dataframe\">\n",
       "  <thead>\n",
       "    <tr style=\"text-align: right;\">\n",
       "      <th></th>\n",
       "      <th>Date</th>\n",
       "      <th>InvoiceNo</th>\n",
       "      <th>Price</th>\n",
       "    </tr>\n",
       "    <tr>\n",
       "      <th>CustomerID</th>\n",
       "      <th></th>\n",
       "      <th></th>\n",
       "      <th></th>\n",
       "    </tr>\n",
       "  </thead>\n",
       "  <tbody>\n",
       "    <tr>\n",
       "      <th>2.0</th>\n",
       "      <td>4</td>\n",
       "      <td>182</td>\n",
       "      <td>553704.0</td>\n",
       "    </tr>\n",
       "    <tr>\n",
       "      <th>3.0</th>\n",
       "      <td>77</td>\n",
       "      <td>27</td>\n",
       "      <td>257404.0</td>\n",
       "    </tr>\n",
       "    <tr>\n",
       "      <th>4.0</th>\n",
       "      <td>19</td>\n",
       "      <td>72</td>\n",
       "      <td>176613.0</td>\n",
       "    </tr>\n",
       "    <tr>\n",
       "      <th>5.0</th>\n",
       "      <td>311</td>\n",
       "      <td>16</td>\n",
       "      <td>41976.0</td>\n",
       "    </tr>\n",
       "    <tr>\n",
       "      <th>6.0</th>\n",
       "      <td>37</td>\n",
       "      <td>77</td>\n",
       "      <td>166972.0</td>\n",
       "    </tr>\n",
       "    <tr>\n",
       "      <th>...</th>\n",
       "      <td>...</td>\n",
       "      <td>...</td>\n",
       "      <td>...</td>\n",
       "    </tr>\n",
       "    <tr>\n",
       "      <th>4368.0</th>\n",
       "      <td>278</td>\n",
       "      <td>10</td>\n",
       "      <td>20480.0</td>\n",
       "    </tr>\n",
       "    <tr>\n",
       "      <th>4369.0</th>\n",
       "      <td>181</td>\n",
       "      <td>7</td>\n",
       "      <td>10774.0</td>\n",
       "    </tr>\n",
       "    <tr>\n",
       "      <th>4370.0</th>\n",
       "      <td>9</td>\n",
       "      <td>12</td>\n",
       "      <td>25177.0</td>\n",
       "    </tr>\n",
       "    <tr>\n",
       "      <th>4371.0</th>\n",
       "      <td>4</td>\n",
       "      <td>754</td>\n",
       "      <td>280608.0</td>\n",
       "    </tr>\n",
       "    <tr>\n",
       "      <th>4372.0</th>\n",
       "      <td>44</td>\n",
       "      <td>70</td>\n",
       "      <td>262820.0</td>\n",
       "    </tr>\n",
       "  </tbody>\n",
       "</table>\n",
       "<p>4324 rows × 3 columns</p>\n",
       "</div>"
      ],
      "text/plain": [
       "            Date  InvoiceNo     Price\n",
       "CustomerID                           \n",
       "2.0            4        182  553704.0\n",
       "3.0           77         27  257404.0\n",
       "4.0           19         72  176613.0\n",
       "5.0          311         16   41976.0\n",
       "6.0           37         77  166972.0\n",
       "...          ...        ...       ...\n",
       "4368.0       278         10   20480.0\n",
       "4369.0       181          7   10774.0\n",
       "4370.0         9         12   25177.0\n",
       "4371.0         4        754  280608.0\n",
       "4372.0        44         70  262820.0\n",
       "\n",
       "[4324 rows x 3 columns]"
      ]
     },
     "execution_count": 30,
     "metadata": {},
     "output_type": "execute_result"
    }
   ],
   "source": [
    "RFMApproach"
   ]
  },
  {
   "cell_type": "code",
   "execution_count": 31,
   "id": "6be9a393",
   "metadata": {},
   "outputs": [],
   "source": [
    "RFMApproach.rename(columns={'Date':'Recency','InvoiceNo':'Frequency','Price':'Monetory'},inplace=True)"
   ]
  },
  {
   "cell_type": "code",
   "execution_count": 32,
   "id": "fa1f1309",
   "metadata": {},
   "outputs": [
    {
     "data": {
      "text/html": [
       "<div>\n",
       "<style scoped>\n",
       "    .dataframe tbody tr th:only-of-type {\n",
       "        vertical-align: middle;\n",
       "    }\n",
       "\n",
       "    .dataframe tbody tr th {\n",
       "        vertical-align: top;\n",
       "    }\n",
       "\n",
       "    .dataframe thead th {\n",
       "        text-align: right;\n",
       "    }\n",
       "</style>\n",
       "<table border=\"1\" class=\"dataframe\">\n",
       "  <thead>\n",
       "    <tr style=\"text-align: right;\">\n",
       "      <th></th>\n",
       "      <th>Recency</th>\n",
       "      <th>Frequency</th>\n",
       "      <th>Monetory</th>\n",
       "    </tr>\n",
       "    <tr>\n",
       "      <th>CustomerID</th>\n",
       "      <th></th>\n",
       "      <th></th>\n",
       "      <th></th>\n",
       "    </tr>\n",
       "  </thead>\n",
       "  <tbody>\n",
       "    <tr>\n",
       "      <th>2.0</th>\n",
       "      <td>4</td>\n",
       "      <td>182</td>\n",
       "      <td>553704.0</td>\n",
       "    </tr>\n",
       "    <tr>\n",
       "      <th>3.0</th>\n",
       "      <td>77</td>\n",
       "      <td>27</td>\n",
       "      <td>257404.0</td>\n",
       "    </tr>\n",
       "    <tr>\n",
       "      <th>4.0</th>\n",
       "      <td>19</td>\n",
       "      <td>72</td>\n",
       "      <td>176613.0</td>\n",
       "    </tr>\n",
       "    <tr>\n",
       "      <th>5.0</th>\n",
       "      <td>311</td>\n",
       "      <td>16</td>\n",
       "      <td>41976.0</td>\n",
       "    </tr>\n",
       "    <tr>\n",
       "      <th>6.0</th>\n",
       "      <td>37</td>\n",
       "      <td>77</td>\n",
       "      <td>166972.0</td>\n",
       "    </tr>\n",
       "    <tr>\n",
       "      <th>...</th>\n",
       "      <td>...</td>\n",
       "      <td>...</td>\n",
       "      <td>...</td>\n",
       "    </tr>\n",
       "    <tr>\n",
       "      <th>4368.0</th>\n",
       "      <td>278</td>\n",
       "      <td>10</td>\n",
       "      <td>20480.0</td>\n",
       "    </tr>\n",
       "    <tr>\n",
       "      <th>4369.0</th>\n",
       "      <td>181</td>\n",
       "      <td>7</td>\n",
       "      <td>10774.0</td>\n",
       "    </tr>\n",
       "    <tr>\n",
       "      <th>4370.0</th>\n",
       "      <td>9</td>\n",
       "      <td>12</td>\n",
       "      <td>25177.0</td>\n",
       "    </tr>\n",
       "    <tr>\n",
       "      <th>4371.0</th>\n",
       "      <td>4</td>\n",
       "      <td>754</td>\n",
       "      <td>280608.0</td>\n",
       "    </tr>\n",
       "    <tr>\n",
       "      <th>4372.0</th>\n",
       "      <td>44</td>\n",
       "      <td>70</td>\n",
       "      <td>262820.0</td>\n",
       "    </tr>\n",
       "  </tbody>\n",
       "</table>\n",
       "<p>4324 rows × 3 columns</p>\n",
       "</div>"
      ],
      "text/plain": [
       "            Recency  Frequency  Monetory\n",
       "CustomerID                              \n",
       "2.0               4        182  553704.0\n",
       "3.0              77         27  257404.0\n",
       "4.0              19         72  176613.0\n",
       "5.0             311         16   41976.0\n",
       "6.0              37         77  166972.0\n",
       "...             ...        ...       ...\n",
       "4368.0          278         10   20480.0\n",
       "4369.0          181          7   10774.0\n",
       "4370.0            9         12   25177.0\n",
       "4371.0            4        754  280608.0\n",
       "4372.0           44         70  262820.0\n",
       "\n",
       "[4324 rows x 3 columns]"
      ]
     },
     "execution_count": 32,
     "metadata": {},
     "output_type": "execute_result"
    }
   ],
   "source": [
    "RFMApproach"
   ]
  },
  {
   "cell_type": "code",
   "execution_count": 33,
   "id": "ebcebd85",
   "metadata": {},
   "outputs": [
    {
     "data": {
      "text/html": [
       "<div>\n",
       "<style scoped>\n",
       "    .dataframe tbody tr th:only-of-type {\n",
       "        vertical-align: middle;\n",
       "    }\n",
       "\n",
       "    .dataframe tbody tr th {\n",
       "        vertical-align: top;\n",
       "    }\n",
       "\n",
       "    .dataframe thead th {\n",
       "        text-align: right;\n",
       "    }\n",
       "</style>\n",
       "<table border=\"1\" class=\"dataframe\">\n",
       "  <thead>\n",
       "    <tr style=\"text-align: right;\">\n",
       "      <th></th>\n",
       "      <th>CustomerID</th>\n",
       "      <th>Recency</th>\n",
       "      <th>Frequency</th>\n",
       "      <th>Monetory</th>\n",
       "    </tr>\n",
       "  </thead>\n",
       "  <tbody>\n",
       "    <tr>\n",
       "      <th>0</th>\n",
       "      <td>2.0</td>\n",
       "      <td>4</td>\n",
       "      <td>182</td>\n",
       "      <td>553704.0</td>\n",
       "    </tr>\n",
       "    <tr>\n",
       "      <th>1</th>\n",
       "      <td>3.0</td>\n",
       "      <td>77</td>\n",
       "      <td>27</td>\n",
       "      <td>257404.0</td>\n",
       "    </tr>\n",
       "    <tr>\n",
       "      <th>2</th>\n",
       "      <td>4.0</td>\n",
       "      <td>19</td>\n",
       "      <td>72</td>\n",
       "      <td>176613.0</td>\n",
       "    </tr>\n",
       "    <tr>\n",
       "      <th>3</th>\n",
       "      <td>5.0</td>\n",
       "      <td>311</td>\n",
       "      <td>16</td>\n",
       "      <td>41976.0</td>\n",
       "    </tr>\n",
       "    <tr>\n",
       "      <th>4</th>\n",
       "      <td>6.0</td>\n",
       "      <td>37</td>\n",
       "      <td>77</td>\n",
       "      <td>166972.0</td>\n",
       "    </tr>\n",
       "    <tr>\n",
       "      <th>...</th>\n",
       "      <td>...</td>\n",
       "      <td>...</td>\n",
       "      <td>...</td>\n",
       "      <td>...</td>\n",
       "    </tr>\n",
       "    <tr>\n",
       "      <th>4319</th>\n",
       "      <td>4368.0</td>\n",
       "      <td>278</td>\n",
       "      <td>10</td>\n",
       "      <td>20480.0</td>\n",
       "    </tr>\n",
       "    <tr>\n",
       "      <th>4320</th>\n",
       "      <td>4369.0</td>\n",
       "      <td>181</td>\n",
       "      <td>7</td>\n",
       "      <td>10774.0</td>\n",
       "    </tr>\n",
       "    <tr>\n",
       "      <th>4321</th>\n",
       "      <td>4370.0</td>\n",
       "      <td>9</td>\n",
       "      <td>12</td>\n",
       "      <td>25177.0</td>\n",
       "    </tr>\n",
       "    <tr>\n",
       "      <th>4322</th>\n",
       "      <td>4371.0</td>\n",
       "      <td>4</td>\n",
       "      <td>754</td>\n",
       "      <td>280608.0</td>\n",
       "    </tr>\n",
       "    <tr>\n",
       "      <th>4323</th>\n",
       "      <td>4372.0</td>\n",
       "      <td>44</td>\n",
       "      <td>70</td>\n",
       "      <td>262820.0</td>\n",
       "    </tr>\n",
       "  </tbody>\n",
       "</table>\n",
       "<p>4324 rows × 4 columns</p>\n",
       "</div>"
      ],
      "text/plain": [
       "      CustomerID  Recency  Frequency  Monetory\n",
       "0            2.0        4        182  553704.0\n",
       "1            3.0       77         27  257404.0\n",
       "2            4.0       19         72  176613.0\n",
       "3            5.0      311         16   41976.0\n",
       "4            6.0       37         77  166972.0\n",
       "...          ...      ...        ...       ...\n",
       "4319      4368.0      278         10   20480.0\n",
       "4320      4369.0      181          7   10774.0\n",
       "4321      4370.0        9         12   25177.0\n",
       "4322      4371.0        4        754  280608.0\n",
       "4323      4372.0       44         70  262820.0\n",
       "\n",
       "[4324 rows x 4 columns]"
      ]
     },
     "execution_count": 33,
     "metadata": {},
     "output_type": "execute_result"
    }
   ],
   "source": [
    "RFMApproach.reset_index()"
   ]
  },
  {
   "cell_type": "code",
   "execution_count": 34,
   "id": "e986310a",
   "metadata": {},
   "outputs": [
    {
     "data": {
      "text/html": [
       "<div>\n",
       "<style scoped>\n",
       "    .dataframe tbody tr th:only-of-type {\n",
       "        vertical-align: middle;\n",
       "    }\n",
       "\n",
       "    .dataframe tbody tr th {\n",
       "        vertical-align: top;\n",
       "    }\n",
       "\n",
       "    .dataframe thead th {\n",
       "        text-align: right;\n",
       "    }\n",
       "</style>\n",
       "<table border=\"1\" class=\"dataframe\">\n",
       "  <thead>\n",
       "    <tr style=\"text-align: right;\">\n",
       "      <th></th>\n",
       "      <th>Recency</th>\n",
       "      <th>Frequency</th>\n",
       "      <th>Monetory</th>\n",
       "    </tr>\n",
       "  </thead>\n",
       "  <tbody>\n",
       "    <tr>\n",
       "      <th>count</th>\n",
       "      <td>4324.000000</td>\n",
       "      <td>4324.000000</td>\n",
       "      <td>4.324000e+03</td>\n",
       "    </tr>\n",
       "    <tr>\n",
       "      <th>mean</th>\n",
       "      <td>93.755319</td>\n",
       "      <td>91.581406</td>\n",
       "      <td>2.339841e+05</td>\n",
       "    </tr>\n",
       "    <tr>\n",
       "      <th>std</th>\n",
       "      <td>100.115549</td>\n",
       "      <td>228.617397</td>\n",
       "      <td>8.636663e+05</td>\n",
       "    </tr>\n",
       "    <tr>\n",
       "      <th>min</th>\n",
       "      <td>1.000000</td>\n",
       "      <td>1.000000</td>\n",
       "      <td>3.880000e+02</td>\n",
       "    </tr>\n",
       "    <tr>\n",
       "      <th>25%</th>\n",
       "      <td>19.000000</td>\n",
       "      <td>17.000000</td>\n",
       "      <td>3.928800e+04</td>\n",
       "    </tr>\n",
       "    <tr>\n",
       "      <th>50%</th>\n",
       "      <td>52.000000</td>\n",
       "      <td>41.000000</td>\n",
       "      <td>8.614700e+04</td>\n",
       "    </tr>\n",
       "    <tr>\n",
       "      <th>75%</th>\n",
       "      <td>143.250000</td>\n",
       "      <td>100.000000</td>\n",
       "      <td>2.108338e+05</td>\n",
       "    </tr>\n",
       "    <tr>\n",
       "      <th>max</th>\n",
       "      <td>381.000000</td>\n",
       "      <td>7837.000000</td>\n",
       "      <td>3.553619e+07</td>\n",
       "    </tr>\n",
       "  </tbody>\n",
       "</table>\n",
       "</div>"
      ],
      "text/plain": [
       "           Recency    Frequency      Monetory\n",
       "count  4324.000000  4324.000000  4.324000e+03\n",
       "mean     93.755319    91.581406  2.339841e+05\n",
       "std     100.115549   228.617397  8.636663e+05\n",
       "min       1.000000     1.000000  3.880000e+02\n",
       "25%      19.000000    17.000000  3.928800e+04\n",
       "50%      52.000000    41.000000  8.614700e+04\n",
       "75%     143.250000   100.000000  2.108338e+05\n",
       "max     381.000000  7837.000000  3.553619e+07"
      ]
     },
     "execution_count": 34,
     "metadata": {},
     "output_type": "execute_result"
    }
   ],
   "source": [
    "RFMApproach.describe()"
   ]
  },
  {
   "cell_type": "code",
   "execution_count": 35,
   "id": "63a6d3a7",
   "metadata": {},
   "outputs": [
    {
     "data": {
      "text/plain": [
       "{'Recency': {0.25: 19.0, 0.5: 52.0, 0.75: 143.25},\n",
       " 'Frequency': {0.25: 17.0, 0.5: 41.0, 0.75: 100.0},\n",
       " 'Monetory': {0.25: 39288.0, 0.5: 86147.0, 0.75: 210833.75}}"
      ]
     },
     "execution_count": 35,
     "metadata": {},
     "output_type": "execute_result"
    }
   ],
   "source": [
    "quantiles=RFMApproach.quantile(q=[0.25,0.5,0.75])\n",
    "quantiles=quantiles.to_dict()\n",
    "quantiles"
   ]
  },
  {
   "cell_type": "code",
   "execution_count": 36,
   "id": "424dd671",
   "metadata": {},
   "outputs": [],
   "source": [
    "def rec_value(x,p,d):\n",
    "    if x<=d[p][0.25]:\n",
    "        return 1\n",
    "    elif x<=d[p][0.5]:\n",
    "        return 2\n",
    "    elif x<=d[p][0.75]:\n",
    "        return 3\n",
    "    else:\n",
    "        return 4"
   ]
  },
  {
   "cell_type": "code",
   "execution_count": 37,
   "id": "fb2791c9",
   "metadata": {},
   "outputs": [],
   "source": [
    "def freq_mont_value(x,p,d):\n",
    "    if x<=d[p][0.25]:\n",
    "        return 4\n",
    "    elif x<=d[p][0.5]:\n",
    "        return 3\n",
    "    elif x<=d[p][0.75]:\n",
    "        return 2\n",
    "    else:\n",
    "        return 1"
   ]
  },
  {
   "cell_type": "code",
   "execution_count": 38,
   "id": "25708b12",
   "metadata": {},
   "outputs": [
    {
     "data": {
      "text/plain": [
       "Index(['Recency', 'Frequency', 'Monetory'], dtype='object')"
      ]
     },
     "execution_count": 38,
     "metadata": {},
     "output_type": "execute_result"
    }
   ],
   "source": [
    "RFMApproach.columns"
   ]
  },
  {
   "cell_type": "code",
   "execution_count": 39,
   "id": "9c51fc06",
   "metadata": {},
   "outputs": [],
   "source": [
    "RFMApproach['R']=RFMApproach['Recency'].apply(rec_value,args=('Recency',quantiles))"
   ]
  },
  {
   "cell_type": "code",
   "execution_count": 40,
   "id": "18295415",
   "metadata": {},
   "outputs": [],
   "source": [
    "RFMApproach['F']=RFMApproach['Frequency'].apply(freq_mont_value,args=('Frequency',quantiles))\n",
    "RFMApproach['M']=RFMApproach['Monetory'].apply(freq_mont_value,args=('Monetory',quantiles))"
   ]
  },
  {
   "cell_type": "code",
   "execution_count": 41,
   "id": "b1cf276d",
   "metadata": {},
   "outputs": [
    {
     "data": {
      "text/html": [
       "<div>\n",
       "<style scoped>\n",
       "    .dataframe tbody tr th:only-of-type {\n",
       "        vertical-align: middle;\n",
       "    }\n",
       "\n",
       "    .dataframe tbody tr th {\n",
       "        vertical-align: top;\n",
       "    }\n",
       "\n",
       "    .dataframe thead th {\n",
       "        text-align: right;\n",
       "    }\n",
       "</style>\n",
       "<table border=\"1\" class=\"dataframe\">\n",
       "  <thead>\n",
       "    <tr style=\"text-align: right;\">\n",
       "      <th></th>\n",
       "      <th>CustomerID</th>\n",
       "      <th>Recency</th>\n",
       "      <th>Frequency</th>\n",
       "      <th>Monetory</th>\n",
       "      <th>R</th>\n",
       "      <th>F</th>\n",
       "      <th>M</th>\n",
       "    </tr>\n",
       "  </thead>\n",
       "  <tbody>\n",
       "    <tr>\n",
       "      <th>0</th>\n",
       "      <td>2.0</td>\n",
       "      <td>4</td>\n",
       "      <td>182</td>\n",
       "      <td>553704.0</td>\n",
       "      <td>1</td>\n",
       "      <td>1</td>\n",
       "      <td>1</td>\n",
       "    </tr>\n",
       "    <tr>\n",
       "      <th>1</th>\n",
       "      <td>3.0</td>\n",
       "      <td>77</td>\n",
       "      <td>27</td>\n",
       "      <td>257404.0</td>\n",
       "      <td>3</td>\n",
       "      <td>3</td>\n",
       "      <td>1</td>\n",
       "    </tr>\n",
       "    <tr>\n",
       "      <th>2</th>\n",
       "      <td>4.0</td>\n",
       "      <td>19</td>\n",
       "      <td>72</td>\n",
       "      <td>176613.0</td>\n",
       "      <td>1</td>\n",
       "      <td>2</td>\n",
       "      <td>2</td>\n",
       "    </tr>\n",
       "    <tr>\n",
       "      <th>3</th>\n",
       "      <td>5.0</td>\n",
       "      <td>311</td>\n",
       "      <td>16</td>\n",
       "      <td>41976.0</td>\n",
       "      <td>4</td>\n",
       "      <td>4</td>\n",
       "      <td>3</td>\n",
       "    </tr>\n",
       "    <tr>\n",
       "      <th>4</th>\n",
       "      <td>6.0</td>\n",
       "      <td>37</td>\n",
       "      <td>77</td>\n",
       "      <td>166972.0</td>\n",
       "      <td>2</td>\n",
       "      <td>2</td>\n",
       "      <td>2</td>\n",
       "    </tr>\n",
       "    <tr>\n",
       "      <th>...</th>\n",
       "      <td>...</td>\n",
       "      <td>...</td>\n",
       "      <td>...</td>\n",
       "      <td>...</td>\n",
       "      <td>...</td>\n",
       "      <td>...</td>\n",
       "      <td>...</td>\n",
       "    </tr>\n",
       "    <tr>\n",
       "      <th>4319</th>\n",
       "      <td>4368.0</td>\n",
       "      <td>278</td>\n",
       "      <td>10</td>\n",
       "      <td>20480.0</td>\n",
       "      <td>4</td>\n",
       "      <td>4</td>\n",
       "      <td>4</td>\n",
       "    </tr>\n",
       "    <tr>\n",
       "      <th>4320</th>\n",
       "      <td>4369.0</td>\n",
       "      <td>181</td>\n",
       "      <td>7</td>\n",
       "      <td>10774.0</td>\n",
       "      <td>4</td>\n",
       "      <td>4</td>\n",
       "      <td>4</td>\n",
       "    </tr>\n",
       "    <tr>\n",
       "      <th>4321</th>\n",
       "      <td>4370.0</td>\n",
       "      <td>9</td>\n",
       "      <td>12</td>\n",
       "      <td>25177.0</td>\n",
       "      <td>1</td>\n",
       "      <td>4</td>\n",
       "      <td>4</td>\n",
       "    </tr>\n",
       "    <tr>\n",
       "      <th>4322</th>\n",
       "      <td>4371.0</td>\n",
       "      <td>4</td>\n",
       "      <td>754</td>\n",
       "      <td>280608.0</td>\n",
       "      <td>1</td>\n",
       "      <td>1</td>\n",
       "      <td>1</td>\n",
       "    </tr>\n",
       "    <tr>\n",
       "      <th>4323</th>\n",
       "      <td>4372.0</td>\n",
       "      <td>44</td>\n",
       "      <td>70</td>\n",
       "      <td>262820.0</td>\n",
       "      <td>2</td>\n",
       "      <td>2</td>\n",
       "      <td>1</td>\n",
       "    </tr>\n",
       "  </tbody>\n",
       "</table>\n",
       "<p>4324 rows × 7 columns</p>\n",
       "</div>"
      ],
      "text/plain": [
       "      CustomerID  Recency  Frequency  Monetory  R  F  M\n",
       "0            2.0        4        182  553704.0  1  1  1\n",
       "1            3.0       77         27  257404.0  3  3  1\n",
       "2            4.0       19         72  176613.0  1  2  2\n",
       "3            5.0      311         16   41976.0  4  4  3\n",
       "4            6.0       37         77  166972.0  2  2  2\n",
       "...          ...      ...        ...       ... .. .. ..\n",
       "4319      4368.0      278         10   20480.0  4  4  4\n",
       "4320      4369.0      181          7   10774.0  4  4  4\n",
       "4321      4370.0        9         12   25177.0  1  4  4\n",
       "4322      4371.0        4        754  280608.0  1  1  1\n",
       "4323      4372.0       44         70  262820.0  2  2  1\n",
       "\n",
       "[4324 rows x 7 columns]"
      ]
     },
     "execution_count": 41,
     "metadata": {},
     "output_type": "execute_result"
    }
   ],
   "source": [
    "RFMApproach.reset_index()"
   ]
  },
  {
   "cell_type": "code",
   "execution_count": 42,
   "id": "16037747",
   "metadata": {},
   "outputs": [
    {
     "data": {
      "text/html": [
       "<div>\n",
       "<style scoped>\n",
       "    .dataframe tbody tr th:only-of-type {\n",
       "        vertical-align: middle;\n",
       "    }\n",
       "\n",
       "    .dataframe tbody tr th {\n",
       "        vertical-align: top;\n",
       "    }\n",
       "\n",
       "    .dataframe thead th {\n",
       "        text-align: right;\n",
       "    }\n",
       "</style>\n",
       "<table border=\"1\" class=\"dataframe\">\n",
       "  <thead>\n",
       "    <tr style=\"text-align: right;\">\n",
       "      <th></th>\n",
       "      <th>CustomerID</th>\n",
       "      <th>Recency</th>\n",
       "      <th>Frequency</th>\n",
       "      <th>Monetory</th>\n",
       "      <th>R</th>\n",
       "      <th>F</th>\n",
       "      <th>M</th>\n",
       "      <th>RFM</th>\n",
       "    </tr>\n",
       "  </thead>\n",
       "  <tbody>\n",
       "    <tr>\n",
       "      <th>0</th>\n",
       "      <td>2.0</td>\n",
       "      <td>4</td>\n",
       "      <td>182</td>\n",
       "      <td>553704.0</td>\n",
       "      <td>1</td>\n",
       "      <td>1</td>\n",
       "      <td>1</td>\n",
       "      <td>3</td>\n",
       "    </tr>\n",
       "    <tr>\n",
       "      <th>1</th>\n",
       "      <td>3.0</td>\n",
       "      <td>77</td>\n",
       "      <td>27</td>\n",
       "      <td>257404.0</td>\n",
       "      <td>3</td>\n",
       "      <td>3</td>\n",
       "      <td>1</td>\n",
       "      <td>7</td>\n",
       "    </tr>\n",
       "    <tr>\n",
       "      <th>2</th>\n",
       "      <td>4.0</td>\n",
       "      <td>19</td>\n",
       "      <td>72</td>\n",
       "      <td>176613.0</td>\n",
       "      <td>1</td>\n",
       "      <td>2</td>\n",
       "      <td>2</td>\n",
       "      <td>5</td>\n",
       "    </tr>\n",
       "    <tr>\n",
       "      <th>3</th>\n",
       "      <td>5.0</td>\n",
       "      <td>311</td>\n",
       "      <td>16</td>\n",
       "      <td>41976.0</td>\n",
       "      <td>4</td>\n",
       "      <td>4</td>\n",
       "      <td>3</td>\n",
       "      <td>11</td>\n",
       "    </tr>\n",
       "    <tr>\n",
       "      <th>4</th>\n",
       "      <td>6.0</td>\n",
       "      <td>37</td>\n",
       "      <td>77</td>\n",
       "      <td>166972.0</td>\n",
       "      <td>2</td>\n",
       "      <td>2</td>\n",
       "      <td>2</td>\n",
       "      <td>6</td>\n",
       "    </tr>\n",
       "    <tr>\n",
       "      <th>...</th>\n",
       "      <td>...</td>\n",
       "      <td>...</td>\n",
       "      <td>...</td>\n",
       "      <td>...</td>\n",
       "      <td>...</td>\n",
       "      <td>...</td>\n",
       "      <td>...</td>\n",
       "      <td>...</td>\n",
       "    </tr>\n",
       "    <tr>\n",
       "      <th>4319</th>\n",
       "      <td>4368.0</td>\n",
       "      <td>278</td>\n",
       "      <td>10</td>\n",
       "      <td>20480.0</td>\n",
       "      <td>4</td>\n",
       "      <td>4</td>\n",
       "      <td>4</td>\n",
       "      <td>12</td>\n",
       "    </tr>\n",
       "    <tr>\n",
       "      <th>4320</th>\n",
       "      <td>4369.0</td>\n",
       "      <td>181</td>\n",
       "      <td>7</td>\n",
       "      <td>10774.0</td>\n",
       "      <td>4</td>\n",
       "      <td>4</td>\n",
       "      <td>4</td>\n",
       "      <td>12</td>\n",
       "    </tr>\n",
       "    <tr>\n",
       "      <th>4321</th>\n",
       "      <td>4370.0</td>\n",
       "      <td>9</td>\n",
       "      <td>12</td>\n",
       "      <td>25177.0</td>\n",
       "      <td>1</td>\n",
       "      <td>4</td>\n",
       "      <td>4</td>\n",
       "      <td>9</td>\n",
       "    </tr>\n",
       "    <tr>\n",
       "      <th>4322</th>\n",
       "      <td>4371.0</td>\n",
       "      <td>4</td>\n",
       "      <td>754</td>\n",
       "      <td>280608.0</td>\n",
       "      <td>1</td>\n",
       "      <td>1</td>\n",
       "      <td>1</td>\n",
       "      <td>3</td>\n",
       "    </tr>\n",
       "    <tr>\n",
       "      <th>4323</th>\n",
       "      <td>4372.0</td>\n",
       "      <td>44</td>\n",
       "      <td>70</td>\n",
       "      <td>262820.0</td>\n",
       "      <td>2</td>\n",
       "      <td>2</td>\n",
       "      <td>1</td>\n",
       "      <td>5</td>\n",
       "    </tr>\n",
       "  </tbody>\n",
       "</table>\n",
       "<p>4324 rows × 8 columns</p>\n",
       "</div>"
      ],
      "text/plain": [
       "      CustomerID  Recency  Frequency  Monetory  R  F  M  RFM\n",
       "0            2.0        4        182  553704.0  1  1  1    3\n",
       "1            3.0       77         27  257404.0  3  3  1    7\n",
       "2            4.0       19         72  176613.0  1  2  2    5\n",
       "3            5.0      311         16   41976.0  4  4  3   11\n",
       "4            6.0       37         77  166972.0  2  2  2    6\n",
       "...          ...      ...        ...       ... .. .. ..  ...\n",
       "4319      4368.0      278         10   20480.0  4  4  4   12\n",
       "4320      4369.0      181          7   10774.0  4  4  4   12\n",
       "4321      4370.0        9         12   25177.0  1  4  4    9\n",
       "4322      4371.0        4        754  280608.0  1  1  1    3\n",
       "4323      4372.0       44         70  262820.0  2  2  1    5\n",
       "\n",
       "[4324 rows x 8 columns]"
      ]
     },
     "execution_count": 42,
     "metadata": {},
     "output_type": "execute_result"
    }
   ],
   "source": [
    "RFMApproach['RFM']=RFMApproach[['R','F','M']].sum(axis=1)\n",
    "RFMApproach.reset_index()"
   ]
  },
  {
   "cell_type": "code",
   "execution_count": 44,
   "id": "d4d6d46d",
   "metadata": {},
   "outputs": [
    {
     "data": {
      "text/plain": [
       "Recency       354\n",
       "Frequency     463\n",
       "Monetory     4283\n",
       "R               4\n",
       "F               4\n",
       "M               4\n",
       "RFM            10\n",
       "dtype: int64"
      ]
     },
     "execution_count": 44,
     "metadata": {},
     "output_type": "execute_result"
    }
   ],
   "source": [
    "RFMApproach.nunique()"
   ]
  },
  {
   "cell_type": "code",
   "execution_count": 45,
   "id": "49daa9c9",
   "metadata": {},
   "outputs": [],
   "source": [
    "Loyalty_level=['Platinum','Gold','Silver','Bronze']\n",
    "score_cuts=pd.qcut(RFMApproach.RFM,q=4,labels=Loyalty_level)\n",
    "RFMApproach['Loyalty_level']=score_cuts.values\n",
    "RFMApproach=RFMApproach.reset_index()"
   ]
  },
  {
   "cell_type": "code",
   "execution_count": 46,
   "id": "bd36d186",
   "metadata": {},
   "outputs": [
    {
     "data": {
      "text/html": [
       "<div>\n",
       "<style scoped>\n",
       "    .dataframe tbody tr th:only-of-type {\n",
       "        vertical-align: middle;\n",
       "    }\n",
       "\n",
       "    .dataframe tbody tr th {\n",
       "        vertical-align: top;\n",
       "    }\n",
       "\n",
       "    .dataframe thead th {\n",
       "        text-align: right;\n",
       "    }\n",
       "</style>\n",
       "<table border=\"1\" class=\"dataframe\">\n",
       "  <thead>\n",
       "    <tr style=\"text-align: right;\">\n",
       "      <th></th>\n",
       "      <th>CustomerID</th>\n",
       "      <th>Recency</th>\n",
       "      <th>Frequency</th>\n",
       "      <th>Monetory</th>\n",
       "      <th>R</th>\n",
       "      <th>F</th>\n",
       "      <th>M</th>\n",
       "      <th>RFM</th>\n",
       "      <th>Loyalty_level</th>\n",
       "    </tr>\n",
       "  </thead>\n",
       "  <tbody>\n",
       "    <tr>\n",
       "      <th>0</th>\n",
       "      <td>2.0</td>\n",
       "      <td>4</td>\n",
       "      <td>182</td>\n",
       "      <td>553704.0</td>\n",
       "      <td>1</td>\n",
       "      <td>1</td>\n",
       "      <td>1</td>\n",
       "      <td>3</td>\n",
       "      <td>Platinum</td>\n",
       "    </tr>\n",
       "    <tr>\n",
       "      <th>1</th>\n",
       "      <td>3.0</td>\n",
       "      <td>77</td>\n",
       "      <td>27</td>\n",
       "      <td>257404.0</td>\n",
       "      <td>3</td>\n",
       "      <td>3</td>\n",
       "      <td>1</td>\n",
       "      <td>7</td>\n",
       "      <td>Gold</td>\n",
       "    </tr>\n",
       "    <tr>\n",
       "      <th>2</th>\n",
       "      <td>4.0</td>\n",
       "      <td>19</td>\n",
       "      <td>72</td>\n",
       "      <td>176613.0</td>\n",
       "      <td>1</td>\n",
       "      <td>2</td>\n",
       "      <td>2</td>\n",
       "      <td>5</td>\n",
       "      <td>Platinum</td>\n",
       "    </tr>\n",
       "    <tr>\n",
       "      <th>3</th>\n",
       "      <td>5.0</td>\n",
       "      <td>311</td>\n",
       "      <td>16</td>\n",
       "      <td>41976.0</td>\n",
       "      <td>4</td>\n",
       "      <td>4</td>\n",
       "      <td>3</td>\n",
       "      <td>11</td>\n",
       "      <td>Bronze</td>\n",
       "    </tr>\n",
       "    <tr>\n",
       "      <th>4</th>\n",
       "      <td>6.0</td>\n",
       "      <td>37</td>\n",
       "      <td>77</td>\n",
       "      <td>166972.0</td>\n",
       "      <td>2</td>\n",
       "      <td>2</td>\n",
       "      <td>2</td>\n",
       "      <td>6</td>\n",
       "      <td>Gold</td>\n",
       "    </tr>\n",
       "    <tr>\n",
       "      <th>...</th>\n",
       "      <td>...</td>\n",
       "      <td>...</td>\n",
       "      <td>...</td>\n",
       "      <td>...</td>\n",
       "      <td>...</td>\n",
       "      <td>...</td>\n",
       "      <td>...</td>\n",
       "      <td>...</td>\n",
       "      <td>...</td>\n",
       "    </tr>\n",
       "    <tr>\n",
       "      <th>4319</th>\n",
       "      <td>4368.0</td>\n",
       "      <td>278</td>\n",
       "      <td>10</td>\n",
       "      <td>20480.0</td>\n",
       "      <td>4</td>\n",
       "      <td>4</td>\n",
       "      <td>4</td>\n",
       "      <td>12</td>\n",
       "      <td>Bronze</td>\n",
       "    </tr>\n",
       "    <tr>\n",
       "      <th>4320</th>\n",
       "      <td>4369.0</td>\n",
       "      <td>181</td>\n",
       "      <td>7</td>\n",
       "      <td>10774.0</td>\n",
       "      <td>4</td>\n",
       "      <td>4</td>\n",
       "      <td>4</td>\n",
       "      <td>12</td>\n",
       "      <td>Bronze</td>\n",
       "    </tr>\n",
       "    <tr>\n",
       "      <th>4321</th>\n",
       "      <td>4370.0</td>\n",
       "      <td>9</td>\n",
       "      <td>12</td>\n",
       "      <td>25177.0</td>\n",
       "      <td>1</td>\n",
       "      <td>4</td>\n",
       "      <td>4</td>\n",
       "      <td>9</td>\n",
       "      <td>Silver</td>\n",
       "    </tr>\n",
       "    <tr>\n",
       "      <th>4322</th>\n",
       "      <td>4371.0</td>\n",
       "      <td>4</td>\n",
       "      <td>754</td>\n",
       "      <td>280608.0</td>\n",
       "      <td>1</td>\n",
       "      <td>1</td>\n",
       "      <td>1</td>\n",
       "      <td>3</td>\n",
       "      <td>Platinum</td>\n",
       "    </tr>\n",
       "    <tr>\n",
       "      <th>4323</th>\n",
       "      <td>4372.0</td>\n",
       "      <td>44</td>\n",
       "      <td>70</td>\n",
       "      <td>262820.0</td>\n",
       "      <td>2</td>\n",
       "      <td>2</td>\n",
       "      <td>1</td>\n",
       "      <td>5</td>\n",
       "      <td>Platinum</td>\n",
       "    </tr>\n",
       "  </tbody>\n",
       "</table>\n",
       "<p>4324 rows × 9 columns</p>\n",
       "</div>"
      ],
      "text/plain": [
       "      CustomerID  Recency  Frequency  Monetory  R  F  M  RFM Loyalty_level\n",
       "0            2.0        4        182  553704.0  1  1  1    3      Platinum\n",
       "1            3.0       77         27  257404.0  3  3  1    7          Gold\n",
       "2            4.0       19         72  176613.0  1  2  2    5      Platinum\n",
       "3            5.0      311         16   41976.0  4  4  3   11        Bronze\n",
       "4            6.0       37         77  166972.0  2  2  2    6          Gold\n",
       "...          ...      ...        ...       ... .. .. ..  ...           ...\n",
       "4319      4368.0      278         10   20480.0  4  4  4   12        Bronze\n",
       "4320      4369.0      181          7   10774.0  4  4  4   12        Bronze\n",
       "4321      4370.0        9         12   25177.0  1  4  4    9        Silver\n",
       "4322      4371.0        4        754  280608.0  1  1  1    3      Platinum\n",
       "4323      4372.0       44         70  262820.0  2  2  1    5      Platinum\n",
       "\n",
       "[4324 rows x 9 columns]"
      ]
     },
     "execution_count": 46,
     "metadata": {},
     "output_type": "execute_result"
    }
   ],
   "source": [
    "RFMApproach"
   ]
  },
  {
   "cell_type": "code",
   "execution_count": 47,
   "id": "7c6da3c6",
   "metadata": {},
   "outputs": [
    {
     "data": {
      "text/plain": [
       "Loyalty_level\n",
       "Gold        1298\n",
       "Platinum    1274\n",
       "Silver       980\n",
       "Bronze       772\n",
       "Name: count, dtype: int64"
      ]
     },
     "execution_count": 47,
     "metadata": {},
     "output_type": "execute_result"
    }
   ],
   "source": [
    "RFMApproach.to_csv('seg_customer_det.csv')\n",
    "RFMApproach['Loyalty_level'].value_counts()"
   ]
  },
  {
   "cell_type": "markdown",
   "id": "24cac83d",
   "metadata": {},
   "source": [
    "### Visualization"
   ]
  },
  {
   "cell_type": "code",
   "execution_count": 48,
   "id": "dc937a53",
   "metadata": {},
   "outputs": [],
   "source": [
    "final_report=RFMApproach.groupby('Loyalty_level')[['Recency','Frequency','Monetory','CustomerID']].agg({'Recency':'sum','Frequency':'sum','Monetory':'sum','CustomerID':'nunique'}).reset_index()"
   ]
  },
  {
   "cell_type": "code",
   "execution_count": 49,
   "id": "9b0b7ad4",
   "metadata": {},
   "outputs": [
    {
     "data": {
      "text/html": [
       "<div>\n",
       "<style scoped>\n",
       "    .dataframe tbody tr th:only-of-type {\n",
       "        vertical-align: middle;\n",
       "    }\n",
       "\n",
       "    .dataframe tbody tr th {\n",
       "        vertical-align: top;\n",
       "    }\n",
       "\n",
       "    .dataframe thead th {\n",
       "        text-align: right;\n",
       "    }\n",
       "</style>\n",
       "<table border=\"1\" class=\"dataframe\">\n",
       "  <thead>\n",
       "    <tr style=\"text-align: right;\">\n",
       "      <th></th>\n",
       "      <th>Loyalty_level</th>\n",
       "      <th>Recency</th>\n",
       "      <th>Frequency</th>\n",
       "      <th>Monetory</th>\n",
       "      <th>CustomerID</th>\n",
       "    </tr>\n",
       "  </thead>\n",
       "  <tbody>\n",
       "    <tr>\n",
       "      <th>0</th>\n",
       "      <td>Platinum</td>\n",
       "      <td>26807</td>\n",
       "      <td>289408</td>\n",
       "      <td>771518839.0</td>\n",
       "      <td>1274</td>\n",
       "    </tr>\n",
       "    <tr>\n",
       "      <th>1</th>\n",
       "      <td>Gold</td>\n",
       "      <td>84831</td>\n",
       "      <td>74310</td>\n",
       "      <td>168474168.0</td>\n",
       "      <td>1298</td>\n",
       "    </tr>\n",
       "    <tr>\n",
       "      <th>2</th>\n",
       "      <td>Silver</td>\n",
       "      <td>124521</td>\n",
       "      <td>23894</td>\n",
       "      <td>52331162.1</td>\n",
       "      <td>980</td>\n",
       "    </tr>\n",
       "    <tr>\n",
       "      <th>3</th>\n",
       "      <td>Bronze</td>\n",
       "      <td>169239</td>\n",
       "      <td>8386</td>\n",
       "      <td>19423261.0</td>\n",
       "      <td>772</td>\n",
       "    </tr>\n",
       "  </tbody>\n",
       "</table>\n",
       "</div>"
      ],
      "text/plain": [
       "  Loyalty_level  Recency  Frequency     Monetory  CustomerID\n",
       "0      Platinum    26807     289408  771518839.0        1274\n",
       "1          Gold    84831      74310  168474168.0        1298\n",
       "2        Silver   124521      23894   52331162.1         980\n",
       "3        Bronze   169239       8386   19423261.0         772"
      ]
     },
     "execution_count": 49,
     "metadata": {},
     "output_type": "execute_result"
    }
   ],
   "source": [
    "final_report"
   ]
  },
  {
   "cell_type": "code",
   "execution_count": 50,
   "id": "0f0273c7",
   "metadata": {},
   "outputs": [
    {
     "data": {
      "text/html": [
       "<div>\n",
       "<style scoped>\n",
       "    .dataframe tbody tr th:only-of-type {\n",
       "        vertical-align: middle;\n",
       "    }\n",
       "\n",
       "    .dataframe tbody tr th {\n",
       "        vertical-align: top;\n",
       "    }\n",
       "\n",
       "    .dataframe thead th {\n",
       "        text-align: right;\n",
       "    }\n",
       "</style>\n",
       "<table border=\"1\" class=\"dataframe\">\n",
       "  <thead>\n",
       "    <tr style=\"text-align: right;\">\n",
       "      <th></th>\n",
       "      <th>Loyalty_level</th>\n",
       "      <th>Recency</th>\n",
       "      <th>Frequency</th>\n",
       "      <th>Monetory</th>\n",
       "      <th>NumBuyers</th>\n",
       "      <th>Percent</th>\n",
       "    </tr>\n",
       "  </thead>\n",
       "  <tbody>\n",
       "    <tr>\n",
       "      <th>0</th>\n",
       "      <td>Platinum</td>\n",
       "      <td>26807</td>\n",
       "      <td>289408</td>\n",
       "      <td>771518839.0</td>\n",
       "      <td>1274</td>\n",
       "      <td>29.46</td>\n",
       "    </tr>\n",
       "    <tr>\n",
       "      <th>1</th>\n",
       "      <td>Gold</td>\n",
       "      <td>84831</td>\n",
       "      <td>74310</td>\n",
       "      <td>168474168.0</td>\n",
       "      <td>1298</td>\n",
       "      <td>30.02</td>\n",
       "    </tr>\n",
       "    <tr>\n",
       "      <th>2</th>\n",
       "      <td>Silver</td>\n",
       "      <td>124521</td>\n",
       "      <td>23894</td>\n",
       "      <td>52331162.1</td>\n",
       "      <td>980</td>\n",
       "      <td>22.66</td>\n",
       "    </tr>\n",
       "    <tr>\n",
       "      <th>3</th>\n",
       "      <td>Bronze</td>\n",
       "      <td>169239</td>\n",
       "      <td>8386</td>\n",
       "      <td>19423261.0</td>\n",
       "      <td>772</td>\n",
       "      <td>17.85</td>\n",
       "    </tr>\n",
       "  </tbody>\n",
       "</table>\n",
       "</div>"
      ],
      "text/plain": [
       "  Loyalty_level  Recency  Frequency     Monetory  NumBuyers  Percent\n",
       "0      Platinum    26807     289408  771518839.0       1274    29.46\n",
       "1          Gold    84831      74310  168474168.0       1298    30.02\n",
       "2        Silver   124521      23894   52331162.1        980    22.66\n",
       "3        Bronze   169239       8386   19423261.0        772    17.85"
      ]
     },
     "execution_count": 50,
     "metadata": {},
     "output_type": "execute_result"
    }
   ],
   "source": [
    "final_report=final_report.rename(columns={'CustomerID':'NumBuyers'})\n",
    "final_report['Percent']=round(final_report['NumBuyers']/final_report.NumBuyers.sum()*100,2)\n",
    "final_report"
   ]
  },
  {
   "cell_type": "code",
   "execution_count": 51,
   "id": "a7d34fa6",
   "metadata": {},
   "outputs": [
    {
     "data": {
      "text/html": [
       "<div>\n",
       "<style scoped>\n",
       "    .dataframe tbody tr th:only-of-type {\n",
       "        vertical-align: middle;\n",
       "    }\n",
       "\n",
       "    .dataframe tbody tr th {\n",
       "        vertical-align: top;\n",
       "    }\n",
       "\n",
       "    .dataframe thead th {\n",
       "        text-align: right;\n",
       "    }\n",
       "</style>\n",
       "<table border=\"1\" class=\"dataframe\">\n",
       "  <thead>\n",
       "    <tr style=\"text-align: right;\">\n",
       "      <th></th>\n",
       "      <th>Loyalty_level</th>\n",
       "      <th>NumBuyers</th>\n",
       "      <th>Percent</th>\n",
       "    </tr>\n",
       "  </thead>\n",
       "  <tbody>\n",
       "    <tr>\n",
       "      <th>0</th>\n",
       "      <td>Platinum</td>\n",
       "      <td>1274</td>\n",
       "      <td>29.46</td>\n",
       "    </tr>\n",
       "    <tr>\n",
       "      <th>1</th>\n",
       "      <td>Gold</td>\n",
       "      <td>1298</td>\n",
       "      <td>30.02</td>\n",
       "    </tr>\n",
       "    <tr>\n",
       "      <th>2</th>\n",
       "      <td>Silver</td>\n",
       "      <td>980</td>\n",
       "      <td>22.66</td>\n",
       "    </tr>\n",
       "    <tr>\n",
       "      <th>3</th>\n",
       "      <td>Bronze</td>\n",
       "      <td>772</td>\n",
       "      <td>17.85</td>\n",
       "    </tr>\n",
       "  </tbody>\n",
       "</table>\n",
       "</div>"
      ],
      "text/plain": [
       "  Loyalty_level  NumBuyers  Percent\n",
       "0      Platinum       1274    29.46\n",
       "1          Gold       1298    30.02\n",
       "2        Silver        980    22.66\n",
       "3        Bronze        772    17.85"
      ]
     },
     "execution_count": 51,
     "metadata": {},
     "output_type": "execute_result"
    }
   ],
   "source": [
    "final_report1=final_report[['Loyalty_level','NumBuyers','Percent']]\n",
    "final_report1"
   ]
  },
  {
   "cell_type": "code",
   "execution_count": 54,
   "id": "7649cad0",
   "metadata": {},
   "outputs": [
    {
     "name": "stdout",
     "output_type": "stream",
     "text": [
      "Requirement already satisfied: squarify in c:\\users\\admin\\anaconda3\\lib\\site-packages (0.4.4)\n"
     ]
    },
    {
     "name": "stderr",
     "output_type": "stream",
     "text": [
      "DEPRECATION: Loading egg at c:\\users\\admin\\anaconda3\\lib\\site-packages\\sensor-1.0.0-py3.11.egg is deprecated. pip 23.3 will enforce this behaviour change. A possible replacement is to use pip for package installation..\n"
     ]
    }
   ],
   "source": [
    "!pip install squarify\n",
    "import squarify"
   ]
  },
  {
   "cell_type": "code",
   "execution_count": 55,
   "id": "78411ddd",
   "metadata": {},
   "outputs": [
    {
     "data": {
      "image/png": "[encoded data removed]",
      "text/plain": [
       "<Figure size 1500x1200 with 1 Axes>"
      ]
     },
     "metadata": {},
     "output_type": "display_data"
    }
   ],
   "source": [
    "fig = plt.gcf()\n",
    "ax = fig.add_subplot()\n",
    "fig.set_size_inches(15,12)\n",
    "colors_dics = {'Platinum':'red','Gold':'yellow', 'Silver':'gray','Bronze':'blue'}\n",
    "\n",
    "#squarify.plot(sizes = final_report1['NumBuyers'], color = colors_dics.values(),label = ['{} \\n{0.0f} customers \\n{}%'.format(*final_report1.iloc[i]) for i in range(0, len(final_report1))], alpha=0.6)\n",
    "\n",
    "squarify.plot(sizes=final_report1['NumBuyers'],color = colors_dics.values(), label = ['Platinum','Gold','Silver','Bronze'], alpha=0.8,\n",
    "             value=final_report1['Percent'])\n",
    "plt.title(\"Customer Segmentation basis Loyality Level :\", fontsize=25, fontweight='bold')\n",
    "plt.axis('off')\n",
    "plt.show()"
   ]
  },
  {
   "cell_type": "code",
   "execution_count": null,
   "id": "68cbc56b",
   "metadata": {},
   "outputs": [],
   "source": []
  }
 ],
 "metadata": {
  "kernelspec": {
   "display_name": "Python 3 (ipykernel)",
   "language": "python",
   "name": "python3"
  },
  "language_info": {
   "codemirror_mode": {
    "name": "ipython",
    "version": 3
   },
   "file_extension": ".py",
   "mimetype": "text/x-python",
   "name": "python",
   "nbconvert_exporter": "python",
   "pygments_lexer": "ipython3",
   "version": "3.11.5"
  }
 },
 "nbformat": 4,
 "nbformat_minor": 5
}
